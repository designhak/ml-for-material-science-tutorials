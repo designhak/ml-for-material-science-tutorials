{
 "cells": [
  {
   "cell_type": "markdown",
   "metadata": {},
   "source": [
    "# Welcome to the Material Science Machine Learning Jupyter Notebooks!\n",
    "\n",
    "Here you will get an introduction to Material Science and Machine Learning using Python.\n",
    "\n",
    "**These examples will most likely only work with python 3.6+**\n",
    "\n",
    "Machine Learning while there are many algorithms and techniques the workflow is **always the same**.\n",
    "\n",
    "1. [gather the data](1-gather-data.ipynb) (web scraping, experiments, simulations)\n",
    "2. [explore the data](2-explore-sanitize-data.ipynb)\n",
    "  - get a feel for what data you have\n",
    "  - are there any interesting features to explore?\n",
    "3. [sanitize the data](2-explore-sanitize-data.ipynb)\n",
    "  - how do you handle missing data?\n",
    "  - how do you handle categorical data? (for example 'metal, 'non-metal', 'spacegroup')\n",
    "4. [apply machine learning algorithms](3-predicting-data.ipynb)\n",
    "  - often the easiest part\n",
    "5. [validate predictions](3-predicting-data.ipynb)"
   ]
  },
  {
   "cell_type": "markdown",
   "metadata": {},
   "source": [
    "# How is Machine Learning different from Statistics?\n",
    "\n",
    "While a huge generalization.\n",
    "\n",
    " - statistician: care about understanding how the data is generated, and understanding the model and its parameters\n",
    " - machine learning: mostly care about ability from prediction\n",
    " \n",
    "I feel that scientists fall mostly in the `statisticians` camp.\n",
    "\n",
    "Occam's razor: one should select the simplest model that describes the data.\n",
    "\n",
    "As an example https://www.youtube.com/watch?v=1A1yaWS8gSg\n",
    "\n",
    "Sofisticated model that predicts planet positions with circles can be replaced by a far simpler one that uses elispses. This comes from our **understanding** of the physics."
   ]
  },
  {
   "cell_type": "markdown",
   "metadata": {},
   "source": [
    "# Which Mac