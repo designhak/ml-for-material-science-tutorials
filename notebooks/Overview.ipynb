{
 "cells": [
  {
   "cell_type": "markdown",
   "metadata": {},
   "source": [
    "# Welcome to the Material Science Machine Learning Jupyter Notebooks!\n",
    "\n",
    "Here you will get an introduction to Material Science and Machine Learning using Python.\n",
    "\n",
    "**These examples will most likely only work with python 3.6+**\n",
    "\n",
    "Machine Learning while there are many algorithms and techniques the workflow is **always the s