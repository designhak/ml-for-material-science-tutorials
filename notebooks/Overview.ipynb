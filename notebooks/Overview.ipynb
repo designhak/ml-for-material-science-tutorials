{
 "cells": [
  {
   "cell_type": "markdown",
   "metadata": {},
   "source": [
    "# Welcome to the Material Science Machine Learning Jupyter Notebooks!\n",
    "\n",
    "Here you will get an introduction to Material Science and Machine Learning using Python.\n",
    "\n",
    "**These examples will most likely only work with pyt