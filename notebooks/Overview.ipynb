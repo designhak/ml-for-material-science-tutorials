{
 "cells": [
  {
   "cell_type": "markdown",
   "metadata": {},
   "source": [
    "# Welcome to the Material Science Machine Learning Jupyter Notebooks!\n",
    "\n",
    "Here you will get an introduction to Material Science and Machine Learning using Python.\n",
    "\n",
    "**These examples will most likely only work with python 3.6+**\n",
    "\n",
    "Machine Learning while there are many algorithms and techniques the workflow is **always the same**.\n",
    "\n",
    "1. [gather the data](1-gather-data.ipynb) (web scraping, experiments, simulations)\n",
    "2. [explore the data](2-explore-sanitize-data.ipynb)\n",
    "  - get a feel for what data you have\n",
    "  - are there any interesting features to explore?\n",
    "3. [sanitize the data](2-explore-sanitize-data.ipynb)\n",
    "  - how do you handle missing data?\n",
    "  - how do you handle categorical data? (for example 'metal, 'non-metal', 'spacegroup')\n",
    "4. [apply machine learning algorithms](3-predicting-data.ipynb)\n",
    "  - often the easiest part\n",
    "5. [validate predictions](3-predicting-data.ipynb)"
   ]
  },
  {
   "cell_type": "markdown",
   "metadata": {},
   "source": [
    "# How is Machine Learning different from Statistics?\n",
    "\n",
    "While a huge generalization.\n",
    "\n",
    " - statistician: care about understanding how the data is generated, and understanding the model and its parameters\n",
    " - machine learning: mostly care about ability from prediction\n",
    " \n",
    "I feel that scientists fall mostly in the `statisticians` camp.\n",
    "\n",
    "Occam's razor: one should select the simplest model that describes the data.\n",
    "\n",
    "As an example https://www.youtube.com/watch?v=1A1yaWS8gSg\n",
    "\n",
    "Sofisticated model that predicts planet positions with circles can be replaced by a far simpler one that uses elispses. This comes from our **understanding** of the physics."
   ]
  },
  {
   "cell_type": "markdown",
   "metadata": {},
   "source": [
    "# Which Machine Learning Algorithms should I use?\n",
    "\n",
    "There are hundreds of algorithms to choose from. Always start with the simplest so that you can just how more complex models perform.\n",
    "\n",
    "General Fields of Machine Learning. You will notice that some algorithms appear in multiple areas.\n",
    "\n",
    "## Classification\n",
    "\n",
    "SVM, nearest neighbors, random forests, gradient boost, nearual networks.\n",
    "\n",
    "Great [starting example dataset](http://scikit-learn.org/stable/auto_examples/datasets/plot_iris_dataset.html)\n",
    "\n",
    "![Clustering](http://scikit-learn.org/stable/_images/sphx_glr_plot_classification_thumb.png)\n",
    "\n",
    "## Regression\n",
    "\n",
    "SRV, ridge regression, Lasso, **Bayession Methods**, neural networks\n",
    "\n",
    "![linear regression](http://scikit-learn.org/stable/_images/sphx_glr_plot_ols_0011.png)\n",
    "\n",
    "I would like to highlight how awesome bayession methods are. [pymc3](http://docs.pymc.io/) is the python package to use. If you can create a model that describes your data you can use bayessian methods. It not gaussian processes are amazing (they are \"parameter free\" fitting methods.\n",
    "\n",
    "Gaussian process. Notice how you get the variance of your prediction with your data.\n",
    "\n",
    "![Gaussian Process](https://blog.dominodatalab.com/wp-content/uploads/2017/03/output_57_0-1.png)\n",
    "\n",
    "Bayessian Methods predicting the effect of regulation on coal miner deaths.\n",
    "\n",
    "![coal miner deaths](http://docs.pymc.io/_images/notebooks_getting_started_52_0.png)\n",
    "\n",
    "I am not very knowledgable on neural networks but [pytorch](https://pytorch.org/) is the most userfriendly way to get started.\n",
    "\n",
    "Play with neural networks in your browser to get a feel for them. [link](http://playground.tensorflow.org/#activation=tanh&batchSize=10&dataset=circle&regDataset=reg-plane&learningRate=0.03&regularizationRate=0&noise=0&networkShape=4,2&seed=0.46804&showTestData=false&discretize=false&percTrainData=50&x=true&y=true&xTimesY=false&xSquared=false&ySquared=false&cosX=false&sinX=false&cosY=false&sinY=false&collectStats=false&problem=classification&initZero=false&hideText=false)\n",
    "\n",
    "\n",
    "## Clustering\n",
    "\n",
    "k-Means, spectral clustering, mean-shift\n",
    "\n",
    "![effect of cluster size etc](http://scikit-learn.org/stable/_images/sphx_glr_plot_kmeans_assumptions_001.png)"
   ]
  },
  {
   "cell_type": "markdown",
   "metadata": {},
   "source": [
    "# Bias Variance Tradeoff\n",
    "\n",
    " - bias error: error of model with training data\n",
    " - variance error: error of model with a different set of training data\n",
    " - irreducible error: error that cannot be reduced regardless of algorithm (sometimes noise)\n",
    "\n",
    "![bias variance](http://scott.fortmann-roe.com/docs/docs/BiasVariance/biasvariance.png)"
   ]
  },
  {
   "cell_type": "markdown",
   "metadata": {},
   "source": [
    "# How do we tell where we are on the bias variance curve?\n",
    "\n",
    "[Cross Validation](https://en.wikipedia.org/wiki/Cross-validation_(statistics)): split your data into a traning and test set. Use the training set to fit your model. Use the test set to evaluate the performance of your model.\n",
    "\n",
    "Often times you split your data 90% training, 10% testing.\n",
    "\n",
    "sklearn provides many methods for automating this.\n"
   ]
  },
  {
   "cell_type": "markdown",
   "metadata": {},
   "source": [
    "# Additional Resources\n",
    "\n",
    " - [great introduction](https://docs.google.com/presentation/d/1O6ozzZHHxGzU-McpvEG09hl7K6oQDd2Taw0FOlnxJc8/edit?usp=docslist_api)\n",
    " - [Kaggle](https://www.kaggle.com/) competitions that teach you how to use machine learning (best way to learn is to apply)\n",
    " - [fast.ai](www.fast.ai) the place to learn about neural networks\n",
    " - coursera, edx, udacity too many to name"
   ]
  },
  {
   "cell_type": "code",
   "execution_count": null,
   "metadata": {},
   "outputs": [],
   "source": []
  }
 ],
 "metadata": {
  "kernelspec": {
   "display_name": "Python 3",
   "language": "python",
   "name": "python3"
  },
  "language_info": {
   "codemirror_mode": {
    "name": "ipython",
    "version": 3
   },
   "file_extension": ".py",
   "mimetype": "text/x-python",
   "name": "python",
   "nbconvert_exporter": "python",
   "pygments_lexer": "ipython3",
   "version": "3.6.5"
  }
 },
 "nbformat": 4,
 "nbformat_minor": 2
}
