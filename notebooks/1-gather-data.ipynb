
{
 "cells": [
  {
   "cell_type": "markdown",
   "metadata": {},
   "source": [
    "# Gathering and Investigating Materials Project Data\n",
    "\n",
    "This notebooks will show how you can use `requests` and `pandas` so gather and explore your data. Often times you will need to suply your data by other methods.\n",
    "\n",
    "The `api` that we will be using is the material project. Link to the [api description](https://materialsproject.org/docs/api#materials_.28calculated_materials_data.29)\n",
    "\n",
    "![Materials Projnect](../images/materials_project.png)"
   ]
  },
  {
   "cell_type": "code",
   "execution_count": 1,
   "metadata": {},
   "outputs": [],
   "source": [
    "import requests\n",
    "\n",
    "base_url = 'https://materialsproject.org/rest/v2/'"
   ]
  },
  {
   "cell_type": "markdown",
   "metadata": {},
   "source": [
    "# Getting Materials Project Api Key\n",
    "\n",
    "This [link](https://www.materialsproject.org/open) details the steps necissary. \n",
    "\n",
    "1. Visit [dashboard](https://materialsproject.org/dashboard) you may need to login\n",
    "2. Generate API key if it has not already been generated and set `API_KEY` to this value.\n",
    "\n",
    "The subprocess method is a way that I store my passwords on my computer and will not work for you.\n",
    "\n",
    "Afterwards in the next cell we will test that our API key works. \n",
    "\n",
    "This is done by performing a `GET` or `POST` request to `https://www.materialsproject.org/rest/v1/api_check`."
   ]
  },
  {
   "cell_type": "code",
   "execution_count": 2,
   "metadata": {},
   "outputs": [],
   "source": [
    "import subprocess\n",
    "API_KEY = subprocess.check_output('gopass www/materialsproject.com apikey'.split()).decode('utf-8')\n",
    "# API_KEY = \"<apikey-here>\"\n",
    "\n",
    "session = requests.Session()\n",
    "session.headers.update({'X-API-KEY': API_KEY})"
   ]
  },
  {
   "cell_type": "code",
   "execution_count": 3,
   "metadata": {},
   "outputs": [
    {
     "name": "stdout",
     "output_type": "stream",
     "text": [
      "{'valid_response': True, 'api_key_valid': True}\n"
     ]
    }
   ],
   "source": [
    "# for some reason the v2 API does not include an API check method??\n",
    "response = session.get(f'https://www.materialsproject.org/rest/v1/api_check')\n",
    "data = response.json()\n",
    "print(data)\n",
    "\n",
    "if not data['api_key_valid']:\n",
    "    raise ValueError('You are not authenticated!')"
   ]
  },
  {
   "cell_type": "markdown",
   "metadata": {},
   "source": [
    "# Materials Project API\n",
    "\n",
    "The materials project provides a RESTfull API for getting material properties which is detailed [here](https://www.materialsproject.org/docs/api#materials_.28calculated_materials_data.29).\n",
    "\n",
    "If you have followed the steps above you should be ready to parse materials project data.\n",
    "\n",
    "A RESTfull API is a nice way to expose data over the web. While they provide convenient methods for getting each individual material property they have a limit of 500 queries per day so we need to be efficient in our queries. To do this we will use the `npquery` to get properties in batch.\n",
    "\n",
    "Lets start by getting a list of materials that are compossed of the following elements `Fe`, `Ti`, `O`, `C`, `N`, `He`. This does not affect your API limit"
   ]
  },
  {
   "cell_type": "code",
   "execution_count": 20,
   "metadata": {},
   "outputs": [],
   "source": [
    "def get_materials(elements):\n",
    "    elements_str = '-'.join(elements)\n",
    "    response = session.get(f'{base_url}/materials/{elements_str}/mids')\n",
    "    data = response.json()\n",
    "    print(f'Found {len(data[\"response\"])} Materials in the Materials Project with the elements: {elements}')\n",
    "    return data['response']\n",
    "\n",
    "def get_material_experimental_properties(mid):\n",
    "    response = session.get(f'{base_url}/materials/{mid}/exp/')\n",
    "    print(response.content)\n",
    "    data = response.json()['response'][0]\n",
    "    print(data)\n",
    "    return data\n",
    "\n",
    "def get_material_vasp_properties(mid, piezoelectric=False, dielelectric=False):\n",
    "    response = session.get(f'{base_url}/materials/{mid}/vasp/')\n",
    "    material_data = response.json()['response'][0]\n",
    "    \n",
    "    if piezoelectric:\n",
    "        response = session.get(f'{base_url}/materials/{mid}/vasp/piezo')\n",
    "        data = response.json()\n",
    "        if not data['valid_response']:\n",
    "            material_data['piezoelectric'] = None\n",
    "        else:\n",
    "            material_data['piezoelectric'] = data['response']\n",
    "        \n",
    "    if dielelectric:\n",
    "        response = session.get(f'{base_url}/materials/{mid}/vasp/diel')\n",
    "        data = response.json()\n",
    "        if not data['valid_response']:\n",