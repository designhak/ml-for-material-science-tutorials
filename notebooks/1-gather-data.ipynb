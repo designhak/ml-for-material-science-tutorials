
{
 "cells": [
  {
   "cell_type": "markdown",
   "metadata": {},
   "source": [
    "# Gathering and Investigating Materials Project Data\n",
    "\n",
    "This notebooks will show how you can use `requests` and `pandas` so gather and explore your data. Often times you will need to suply your data by other methods.\n",
    "\n",
    "The `api` that we will be using is the material project. Link to the [api description](https://materialsproject.org/docs/api#materials_.28calculated_materials_data.29)\n",
    "\n",
    "![Materials Projnect](../images/materials_project.png)"
   ]
  },
  {
   "cell_type": "code",
   "execution_count": 1,
   "metadata": {},
   "outputs": [],
   "source": [
    "import requests\n",
    "\n",
    "base_url = 'https://materialsproject.org/rest/v2/'"
   ]
  },
  {
   "cell_type": "markdown",
   "metadata": {},
   "source": [
    "# Getting Materials Project Api Key\n",
    "\n",
    "This [link](https://www.materialsproject.org/open) details the steps necissary. \n",
    "\n",
    "1. Visit [dashboard](https://materialsproject.org/dashboard) you may need to login\n",
    "2. Generate API key if it has not already been generated and set `API_KEY` to this value.\n",
    "\n",
    "The subprocess method is a way that I store my passwords on my computer and will not work for you.\n",