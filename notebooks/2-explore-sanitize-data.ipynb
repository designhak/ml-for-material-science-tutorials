{
 "cells": [
  {
   "cell_type": "markdown",
   "metadata": {},
   "source": [
    "# Sanitizing Data\n",
    "\n",
    "Often data is messy. In our case we have two problems with the data.\n",
    "\n",
    " - values are missing\n",
    " - not in a format easy to do machine learning on.\n",
    " \n",
    "Machine Learning algorithms and in general all statistics algorithms like arrays."
   ]
  },
  {
   "cell_type": "code",
   "execution_count": 116,
   "metadata": {},
   "outputs": [],
   "source": [
    "import json\n",
    "from collections import defaultdict\n",
    "import re\n",
    "\n",
    "import pandas as pd\n",
    "import numpy as np\n",
    "import requests\n",
    "\n",
    "def convert_dict_to_pandas_frame(data, dict_frames):\n",
    "    data_columns = defaultdict(list)\n",
    "    f