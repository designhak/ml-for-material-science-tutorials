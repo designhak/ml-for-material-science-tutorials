{
 "cells": [
  {
   "cell_type": "markdown",
   "metadata": {},
   "source": [
    "# Sanitizing Data\n",
    "\n",
    "Often data is messy. In our case we have two problems with the data.\n",
    "\n",
    " - values are missing\n",
    " - not in a format easy to do machine learning on.\n",
    " \n",
    "Machine Learning algorithms and in general all statistics algorithms like arrays."
   ]
  },
  {
   "cell_type": "code",
   "execution_count": 116,
   "metadata": {},
   "outputs": [],
   "source": [
    "import json\n",
    "from collections import defaultdict\n",
    "import re\n",
    "\n",
    "import pandas as pd\n",
    "import numpy as np\n",
    "import requests\n",
    "\n",
    "def convert_dict_to_pandas_frame(data, dict_frames):\n",
    "    data_columns = defaultdict(list)\n",
    "    for d in data.values():\n",
    "        for key in dict_frames:\n",
    "            subkey = d\n",
    "            subkeys = dict_frames[key].split('.')\n",
    "            for k in subkeys:\n",
    "                if re.match(r'\\d+', k) and subkey is not None:\n",
    "                    index = int(k)\n",
    "                    if index >= len(subkey):\n",
    "                        subkey = None\n",
    "                    else:\n",
    "                        subkey = subkey[index]\n",
    "                else:\n",
    "                    if subkey is not None:\n",
    "                        subkey = subkey.get(k)\n",
    "            data_columns[key].append(subkey)\n",
    "    df = pd.DataFrame.from_dict(data_columns)\n",
    "    return df.set_index('material_id')"
   ]
  },
  {
   "cell_type": "code",
   "execution_count": 117,
   "metadata": {},
   "outputs": [
    {
     "name": "stdout",
     "output_type": "stream",
     "text": [
      "Number of materials 6928\n"
     ]
    }
   ],
   "source": [
    "## data will not be available locally so we need to download it\n",
    "# data = json.load(open('../data/mpdata.json'))\n",
    "data = requests.get('https://gitlab.com/costrouc/mse-machinelearning-notebooks/raw/master/data/mpdata.json').jso