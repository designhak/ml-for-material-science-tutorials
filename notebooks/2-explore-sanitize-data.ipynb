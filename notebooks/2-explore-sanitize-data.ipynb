{
 "cells": [
  {
   "cell_type": "markdown",
   "metadata": {},
   "source": [
    "# Sanitizing Data\n",
    "\n",
    "Often data is messy. In our case we have two problems with the data.\n",
    "\n",
    " - values are missing\n",
    " - not in a format easy to do machine learning on.\n",
    " \n",
    "Machine Learning algorithms and in general all statistics algorithms like arrays."
   ]
  },
  {
   "cell_type": "code",
   "execution_count": 116,
   "metadata": {},
   "outputs": [],
   "source": [
    "import json\n",
    "from collections import defaultdict\n",
    "import re\n",
    "\n",
    "import pandas as pd\n",
    "import numpy as np\n",
    "import requests\n",
    "\n",
    "def convert_dict_to_pandas_frame(data, dict_frames):\n",
    "    data_columns = defaultdict(list)\n",
    "    for d in data.values():\n",
    "        for key in dict_frames:\n",
    "            subkey = d\n",
    "            subkeys = dict_frames[key].split('.')\n",
    "            for k in subkeys:\n",
    "                if re.match(r'\\d+', k) and subkey is not None:\n",
    "                    index = int(k)\n",
    "                    if index >= len(subkey):\n",
    "                        subkey = None\n",
    "                    else:\n",
    "                        subkey = subkey[index]\n",
    "                else:\n",
    "                    if subkey is not None:\n",
    "                        subkey = subkey.get(k)\n",
    "            data_columns[key].append(subkey)\n",
    "    df = pd.DataFrame.from_dict(data_columns)\n",
    "    return df.set_index('material_id')"
   ]
  },
  {
   "cell_type": "code",
   "execution_count": 117,
   "metadata": {},
   "outputs": [
    {
     "name": "stdout",
     "output_type": "stream",
     "text": [
      "Number of materials 6928\n"
     ]
    }
   ],
   "source": [
    "## data will not be available locally so we need to download it\n",
    "# data = json.load(open('../data/mpdata.json'))\n",
    "data = requests.get('https://gitlab.com/costrouc/mse-machinelearning-notebooks/raw/master/data/mpdata.json').json()\n",
    "print('Number of materials', len(data))"
   ]
  },
  {
   "cell_type": "markdown",
   "metadata": {},
   "source": [
    "If we look at one of the materials we can see that the data is not in the best format."
   ]
  },
  {
   "cell_type": "code",
   "execution_count": 6,
   "metadata": {},
   "outputs": [
    {
     "data": {
      "text/plain": [
       "{'energy': -4.0645998,\n",
       " 'energy_per_atom': -4.0645998,\n",
       " 'volume': 11.852765009390795,\n",
       " 'formation_energy_per_atom': 0.03469247000000042,\n",
       " 'nsites': 1,\n",
       " 'unit_cell_formula': {'Cu': 1.0},\n",
       " 'pretty_formula': 'Cu',\n",
       " 'is_hubbard': False,\n",
       " 'elements': ['Cu'],\n",
       " 'nelements': 1,\n",
       " 'e_above_hull': 0.03469247000000042,\n",
       " 'hubbards': {},\n",
       " 'is_compatible': True,\n",
       " 'spacegroup': {'source': 'spglib',\n",
       "  'symbol': 'Im-3m',\n",
       "  'number': 229,\n",
       "  'point_group': 'm-3m',\n",
       "  'crystal_system': 'cubic',\n",
       "  'hall': '-I 4 2 3'},\n",
       " 'task_ids': ['mp-998890',\n",
       "  'mp-998895',\n",
       "  'mp-998898',\n",
       "  'mp-998906',\n",
       "  'mp-1056211',\n",
       "  'mp-1056219',\n",
       "  'mp-1056226',\n",
       "  'mp-1056233'],\n",
       " 'band_gap': 0.0,\n",
       " 'density': 8.902615866613178,\n",
       " 'icsd_id': None,\n",
       " 'icsd_ids': [183263],\n",
       " 'cif': \"# generated using pymatgen\\ndata_Cu\\n_symmetry_space_group_name_H-M   'P 1'\\n_cell_length_a   2.48779079\\n_cell_length_b   2.48779079\\n_cell_length_c   2.48779079\\n_cell_angle_alpha   109.47122063\\n_cell_angle_beta   109.47122063\\n_cell_angle_gamma   109.47122063\\n_symmetry_Int_Tables_number   1\\n_chemical_formula_structural   Cu\\n_chemical_formula_sum   Cu1\\n_cell_volume   11.85276501\\n_cell_formula_units_Z   1\\nloop_\\n _symmetry_equiv_pos_site_id\\n _symmetry_equiv_pos_as_xyz\\n  1  'x, y, z'\\nloop_\\n _atom_site_type_symbol\\n _atom_site_label\\n _atom_site_symmetry_multiplicity\\n _atom_site_fract_x\\n _atom_site_fract_y\\n _atom_site_fract_z\\n _atom_site_occupancy\\n  Cu  Cu1  1  0.000000  0.000000  0.000000  1\\n\",\n",
       " 'total_magnetization': -7e-07,\n",
       " 'material_id': 'mp-998890',\n",
       " 'oxide_type': 'None',\n",
       " 'tags': ['Copper', 'High pressure experimental phase'],\n",
       " 'elasticity': {'G_Reuss': -17.960241741427517,\n",
       "  'G_VRH': 19.06895589595666,\n",
       "  'G_Voigt': 56.098153533340835,\n",
       "  'G_Voigt_Reuss_Hill': 19.06895589595666,\n",
       "  'K_Reuss': 145.87229552135727,\n",
       "  'K_VRH': 145.87229552135733,\n",
       "  'K_Voigt': 145.87229552135736,\n",
       "  'K_Voigt_Reuss_Hill': 145.87229552135733,\n",
       "  'elastic_anisotropy': -20.617315830427692,\n",
       "  'elastic_tensor': [[137.0, 150.0, 150.0, -0.0, 0.0, 0.0],\n",
       "   [150.0, 137.0, 150.0, 0.0, -0.0, -0.0],\n",
       "   [150.0, 150.0, 137.0, -0.0, 0.0, -0.0],\n",
       "   [-0.0, 0.0, -0.0, 98.0, 0.0, 0.0],\n",
       "   [0.0, -0.0, 0.0, 0.0, 98.0, 0.0],\n",
       "   [0.0, -0.0, -0.0, 0.0, 0.0, 98.0]],\n",
       "  'homogeneous_poisson': 0.43736737340081105,\n",
       "  'poisson_ratio': 0.43736737340081105,\n",
       "  'universal_anisotropy': -20.617315830427692,\n",
       "  'elastic_tensor_original': [[137.23435775103798,\n",
       "    150.17225544048853,\n",
       "    150.20736652133866,\n",
       "    0.0,\n",
       "    0.00570621333333458,\n",
       "    -0.0016961700000014818],\n",
       "   [150.17956449887507,\n",
       "    137.23059429293244,\n",
       "    150.20736652133866,\n",
       "    0.0011605700000007649,\n",
       "    0.00553183666666768,\n",
       "    -0.001712109999999591],\n",
       "   [150.17956449887507,\n",
       "    150.17225544048853,\n",
       "    137.26733472684245,\n",
       "    0.0,\n",
       "    0.0056197499999995045,\n",
       "    -0.0018734200000007824],\n",
       "   [0.0, 0.0, 0.0, 97.81118299333336, 0.0, 0.0],\n",
       "   [0.0, 0.0, 0.0, 0.0, 97.81105978333335, 0.0],\n",
       "   [0.0, 0.0, 0.0, 0.0, 0.0, 97.81082478666669]],\n",
       "  'nsites': 1,\n",
       "  'compliance_tensor': [[-50.7, 26.5, 26.5, -0.0, -0.0, 0.0],\n",
       "   [26.5, -50.7, 26.5, 0.0, -0.0, -0.0],\n",
       "   [26.5, 26.5, -50.7, -0.0, 0.0, -0.0],\n",
       "   [-0.0, 0.0, -0.0, 10.2, 0.0, 0.0],\n",
       "   [-0.0, -0.0, 0.0, 0.0, 10.2, 0.0],\n",
       "   [0.0, -0.0, -0.0, 0.0, 0.0, 10.2]]},\n",
       " 'full_formula': 'Cu1'}"
      ]
     },
     "execution_count": 6,
     "metadata": {},
     "output_type": "execute_result"
    }
   ],
   "source": [
    "first_key = next(iter(data))\n",
    "data[first_key]"
   ]
  },
  {
   "cell_type": "markdown",
   "metadata": {},
   "source": [
    "Always aim to convert your data to a tabular form first"
   ]
  },
  {
   "cell_type": "code",
   "execution_count": 118,
   "metadata": {},
   "outputs": [],
   "source": [
    "key_map = {\n",
    "    'material_id': 'material_id',\n",
    "    'energy': 'energy',\n",
    "    'volume': 'volume',\n",
    "    'nsites': 'nsites',\n",
    "    'energy_per_atom': 'energy_per_atom',\n",
    "    'pretty_formula': 'pretty_formula',\n",
    "    'spacegroup': 'spacegroup.number',\n",
    "    'band_gap': 'band_gap',\n",
    "    'density': 'density',\n",
    "    'total_magnetization': 'total_magnetization',\n",
    "    # Elacticity\n",
    "    'poisson_ratio': 'elasticity.poisson_ratio',\n",
    "    'bulk_modulus_voigt': 'elasticity.K_Voigt',\n",
    "    'bulk_modulus_reuss': 'elasticity.K_Reuss',\n",
    "    'bulk_modulus_vrh': 'elasticity.K_VRH',\n",
    "    'shear_modulus_voigt': 'elasticity.G_Voigt',\n",
    "    'shear_modulus_vrh': 'elasticity.G_VRH'\n",
    "}\n",
    "\n",
    "df = convert_dict_to_pandas_frame(data, key_map)"
   ]
  },
  {
   "cell_type": "code",
   "execution_count": 119,
   "metadata": {},
   "outputs": [
    {
     "name": "stdout",
     "output_type": "stream",
     "text": [
      "<class 'pandas.core.frame.DataFrame'>\n",
      "Index: 6928 entries, mp-998890 to mp-30883\n",
      "Data columns (total 15 columns):\n",
      "energy                 6928 non-null float64\n",
      "volume                 6928 non-null float64\n",
      "nsites                 6928 non-null int64\n",
      "energy_per_atom        6928 non-null float64\n",
      "pretty_formula         6928 non-null object\n",
      "spacegroup             6928 non-null int64\n",
      "band_gap               6928 non-null float64\n",
      "density                6928 non-null float64\n",
      "total_magnetization    6928 non-null float64\n",
      "poisson_ratio          896 non-null float64\n",
      "bulk_modulus_voigt     896 non-null float64\n",
      "bulk_modulus_reuss     896 non-null float64\n",
      "bulk_modulus_vrh       896 non-null float64\n",
      "shear_modulus_voigt    896 non-null float64\n",
      "shear_modulus_vrh      896 non-null float64\n",
      "dtypes: float64(12), int64(2), object(1)\n",
      "memory usage: 866.0+ KB\n"
     ]
    }
   ],
   "source": [
    "df.info()"
   ]
  },
  {
   "cell_type": "code",
   "execution_count": 120,
   "metadata": {},
   "outputs": [
    {
     "data": {
      "text/html": [
       "<div>\n",
       "<style scoped>\n",
       "    .dataframe tbody tr th:only-of-type {\n",
       "        vertical-align: middle;\n",
       "    }\n",
       "\n",
       "    .dataframe tbody tr th {\n",
       "        vertical-align: top;\n",
       "    }\n",
       "\n",
       "    .dataframe thead th {\n",
       "        text-align: right;\n",
       "    }\n",
       "</style>\n",
       "<table border=\"1\" class=\"dataframe\">\n",
       "  <thead>\n",
       "    <tr style=\"text-align: right;\">\n",
       "      <th></th>\n",
       "      <th>energy</th>\n",
       "      <th>volume</th>\n",
       "      <th>nsites</th>\n",
       "      <th>energy_per_atom</th>\n",
       "      <th>pretty_formula</th>\n",
       "      <th>spacegroup</th>\n",
       "      <th>band_gap</th>\n",
       "      <th>density</th>\n",
       "      <th>total_magnetization</th>\n",
       "      <th>poisson_ratio</th>\n",
       "      <th>bulk_modulus_voigt</th>\n",
       "      <th>bulk_modulus_reuss</th>\n",
       "      <th>bulk_modulus_vrh</th>\n",
       "      <th>shear_modulus_voigt</th>\n",
       "      <th>shear_modulus_vrh</th>\n",
       "    </tr>\n",
       "    <tr>\n",
       "      <th>material_id</th>\n",
       "      <th></th>\n",
       "      <th></th>\n",
       "      <th></th>\n",
       "      <th></th>\n",
       "      <th></th>\n",
       "      <th></th>\n",
       "      <th></th>\n",
       "      <th></th>\n",
       "      <th></th>\n",
       "      <th></th>\n",
       "      <th></th>\n",
       "      <th></th>\n",
       "      <th></th>\n",
       "      <th></th>\n",
       "      <th></th>\n",
       "    </tr>\n",
       "  </thead>\n",
       "  <tbody>\n",
       "    <tr>\n",
       "      <th>mvc-15868</th>\n",
       "      <td>-102.229807</td>\n",
       "      <td>182.562400</td>\n",
       "      <td>20</td>\n",
       "      <td>-5.111490</td>\n",
       "      <td>ZnCoO3</td>\n",
       "      <td>62</td>\n",
       "      <td>0.0000</td>\n",
       "      <td>6.270250</td>\n",
       "      <td>4.401870</td>\n",
       "      <td>NaN</td>\n",
       "      <td>NaN</td>\n",
       "      <td>NaN</td>\n",
       "      <td>NaN</td>\n",
       "      <td>NaN</td>\n",
       "      <td>NaN</td>\n",
       "    </tr>\n",
       "    <tr>\n",
       "      <th>mp-714908</th>\n",
       "      <td>-278.665566</td>\n",
       "      <td>451.645416</td>\n",
       "      <td>42</td>\n",
       "      <td>-6.634894</td>\n",
       "      <td>Fe10O11</td>\n",
       "      <td>2</td>\n",
       "      <td>0.5045</td>\n",
       "      <td>5.400573</td>\n",
       "      <td>2.000009</td>\n",
       "      <td>NaN</td>\n",
       "      <td>NaN</td>\n",
       "      <td>NaN</td>\n",
       "      <td>NaN</td>\n",
       "      <td>NaN</td>\n",
       "      <td>NaN</td>\n",
       "    </tr>\n",
       "    <tr>\n",
       "      <th>mp-2327</th>\n",
       "      <td>-58.231276</td>\n",
       "      <td>518.171632</td>\n",
       "      <td>34</td>\n",
       "      <td>-1.712685</td>\n",
       "      <td>TiZn16</td>\n",
       "      <td>63</td>\n",
       "      <td>0.0000</td>\n",
       "      <td>7.014325</td>\n",
       "      <td>0.000033</td>\n",
       "      <td>0.341793</td>\n",
       "      <td>79.294827</td>\n",
       "      <td>78.599764</td>\n",
       "      <td>78.947295</td>\n",
       "      <td>29.014697</td>\n",
       "      <td>27.925264</td>\n",
       "    </tr>\n",
       "    <tr>\n",
       "      <th>mvc-12563</th>\n",
       "      <td>-183.252030</td>\n",
       "      <td>324.836376</td>\n",
       "      <td>28</td>\n",
       "      <td>-6.544715</td>\n",
       "      <td>Mn2ZnO4</td>\n",
       "      <td>59</td>\n",
       "      <td>0.2972</td>\n",
       "      <td>4.892780</td>\n",
       "      <td>32.000000</td>\n",
       "      <td>NaN</td>\n",
       "      <td>NaN</td>\n",
       "      <td>NaN</td>\n",
       "      <td>NaN</td>\n",
       "      <td>NaN</td>\n",
       "      <td>NaN</td>\n",
       "    </tr>\n",
       "    <tr>\n",
       "      <th>mp-1038987</th>\n",
       "      <td>-19.747382</td>\n",
       "      <td>310.753063</td>\n",
       "      <td>12</td>\n",
       "      <td>-1.645615</td>\n",
       "      <td>CaMg5</td>\n",
       "      <td>38</td>\n",
       "      <td>0.0000</td>\n",
       "      <td>1.727083</td>\n",
       "      <td>-0.000737</td>\n",
       "      <td>NaN</td>\n",
       "      <td>NaN</td>\n",
       "      <td>NaN</td>\n",
       "      <td>NaN</td>\n",
       "      <td>NaN</td>\n",
       "      <td>NaN</td>\n",
       "    </tr>\n",
       "  </tbody>\n",
       "</table>\n",
       "</div>"
      ],
      "text/plain": [
       "                 energy      volume  nsites  energy_per_atom pretty_formula  \\\n",
       "material_id                                                                   \n",
       "mvc-15868   -102.229807  182.562400      20        -5.111490         ZnCoO3   \n",
       "mp-714908   -278.665566  451.645416      42        -6.634894        Fe10O11   \n",
       "mp-2327      -58.231276  518.171632      34        -1.712685         TiZn16   \n",
       "mvc-12563   -183.252030  324.836376      28        -6.544715        Mn2ZnO4   \n",
       "mp-1038987   -19.747382  310.753063      12        -1.645615          CaMg5   \n",
       "\n",
       "             spacegroup  band_gap   density  total_magnetization  \\\n",
       "material_id                                                        \n",
       "mvc-15868            62    0.0000  6.270250             4.401870   \n",
       "mp-714908             2    0.5045  5.400573             2.000009   \n",
       "mp-2327              63    0.0000  7.014325             0.000033   \n",
       "mvc-12563            59    0.2972  4.892780            32.000000   \n",
       "mp-1038987           38    0.0000  1.727083            -0.000737   \n",
       "\n",
       "             poisson_ratio  bulk_modulus_voigt  bulk_modulus_reuss  \\\n",
       "material_id                                                          \n",
       "mvc-15868              NaN                 NaN                 NaN   \n",
       "mp-714908              NaN                 NaN                 NaN   \n",
       "mp-2327           0.341793           79.294827           78.599764   \n",
       "mvc-12563              NaN                 NaN                 NaN   \n",
       "mp-1038987             NaN                 NaN                 NaN   \n",
       "\n",
       "             bulk_modulus_vrh  shear_modulus_voigt  shear_modulus_vrh  \n",
       "material_id                                                            \n",
       "mvc-15868                 NaN                  NaN                NaN  \n",
       "mp-714908                 NaN                  NaN                NaN  \n",
       "mp-2327             78.947295            29.014697          27.925264  \n",
       "mvc-12563                 NaN                  NaN                NaN  \n",
       "mp-1038987                NaN                  NaN                NaN  "
      ]
     },
     "execution_count": 120,
     "metadata": {},
     "output_type": "execute_result"
    }
   ],
   "source": [
    "df.sample(5)"
   ]
  },
  {
   "cell_type": "code",
   "execution_count": 121,
   "metadata": {},
   "outputs": [],
   "source": [
    "# write the data to a csv file\n",
    "df.to_csv('../data/mpdata.csv')"
   ]
  },
  {
   "cell_type": "markdown",
   "metadata": {},
   "source": [
    "# Lets Explore the Data\n",
    "\n",
    "Exploring the data is important."
   ]
  },
  {
   "cell_type": "code",
   "execution_count": 88,
   "metadata": {},
   "outputs": [
    {
     "data": {
      "text/plain": [
       "6928"
      ]
     },
     "execution_count": 88,
     "metadata": {},
     "output_type": "execute_result"
    }
   ],
   "source": [
    "# how many materials are we looking at?\n",
    "len(df)"
   ]
  },
  {
   "cell_type": "code",
   "execution_count": 87,
   "metadata": {},
   "outputs": [
    {
     "data": {
      "text/plain": [
       "1      680\n",
       "14     584\n",
       "2      452\n",
       "12     314\n",
       "62     291\n",
       "8      251\n",
       "15     208\n",
       "63     205\n",
       "166    160\n",
       "225    158\n",
       "221    155\n",
       "194    146\n",
       "123    117\n",
       "227    110\n",
       "61     102\n",
       "74      99\n",
       "5       96\n",
       "139     88\n",
       "19      86\n",
       "4       83\n",
       "160     81\n",
       "33      72\n",
       "6       72\n",
       "186     71\n",
       "11      69\n",
       "Name: spacegroup, dtype: int64"
      ]
     },
     "execution_count": 87,
     "metadata": {},
     "output_type": "execute_result"
    }
   ],
   "source": [
    "# look at most common spacegroups\n",
    "df['spacegroup'].value_counts()[:25]"
   ]
  },
  {
   "cell_type": "code",
   "execution_count": 115,
   "metadata": {},
   "outputs": [
    {
     "name": "stdout",
     "output_type": "stream",
     "text": [
      "how many are metals? 2270 / 6928\n",
      "material with highest band gap 17.8914 He\n"
     ]
    },
    {
     "data": {
      "text/plain": [
       "<matplotlib.axes._subplots.AxesSubplot at 0x7fb214ddf780>"
      ]
     },
     "execution_count": 115,
     "metadata": {},
     "output_type": "execute_result"
    },
    {
     "data": {
      "image/png": "iVBORw0KGgoAAAANSUhEUgAAAYgAAAD8CAYAAABthzNFAAAABHNCSVQICAgIfAhkiAAAAAlwSFlzAAALEgAACxIB0t1+/AAAADl0RVh0U29mdHdhcmUAbWF0cGxvdGxpYiB2ZXJzaW9uIDIuMi4yLCBodHRwOi8vbWF0cGxvdGxpYi5vcmcvhp/UCwAAE9lJREFUeJzt3X+w5XVdx/Hny8VS1ETjRgTcLjpEoeVCN7MMxyQLtST7gTCmSIyrk1aWM4nUqFPjDJVI9ItcBZUigvihlGSilU4zKe4CAyiSgIvsurIrGovKQMC7P8734uH23b3n7t7v+Z57z/Mxc+Z+z+d8v+f7vgf2vO7n8/18v99UFZIkLfaYvguQJE0mA0KS1MqAkCS1MiAkSa0MCElSKwNCktTKgJAktTIgJEmtDAhJUqv9unrjJIcBFwAHAQVsrKpzkjwVuBiYA7YAJ1bV15MEOAd4MfAt4NVVde2e9nHggQfW3NxcV7+CJK1Jmzdv/mpVzSy1XmcBATwIvKmqrk3yJGBzkquBVwMfr6ozk5wOnA68GXgRcETz+HHg3Obnbs3NzbFp06YOfwVJWnuS3DHKep0NMVXV9oUeQFXdC9wMHAKcAHygWe0DwC82yycAF9TAp4ADkhzcVX2SpD0byzGIJHPA0cCngYOqanvz0lcYDEHBIDzuHNpsa9O2+L02JNmUZNPOnTs7q1mSpl3nAZHkicBlwBuratfwazW4lOyyLidbVRurar6q5mdmlhxCkyTtpU4DIsljGYTDhVV1edN818LQUfNzR9O+DThsaPNDmzZJUg86C4hmVtJ5wM1V9a6hl64ETmmWTwE+NNT+qgw8B7hnaChKkjRmXc5iei7wSuDGJNc3bWcAZwKXJDkNuAM4sXntKgZTXG9lMM311A5rkyQtobOAqKr/BLKbl49rWb+A13dVjyRpeTyTWpLUyoCQJLXq8hjExJs7/cOPLG858yU9ViJJk8cehCSplQEhSWplQEiSWhkQkqRWBoQkqZUBIUlqZUBIkloZEJKkVgaEJKmVASFJamVASJJaGRCSpFYGhCSplQEhSWrV5T2pz0+yI8lNQ20XJ7m+eWxZuBVpkrkk9w299jdd1SVJGk2X94N4P/CXwAULDVX18oXlJGcB9wytf1tVre+wHknSMnR5T+pPJplrey1JgBOBF3S1f0nSvunrGMSxwF1V9YWhtsOTXJfkE0mO7akuSVKjr1uOngxcNPR8OzBbVXcn+VHgg0meUVW7Fm+YZAOwAWB2dnYsxUrSNBp7DyLJfsAvARcvtFXV/VV1d7O8GbgN+IG27atqY1XNV9X8zMzMOEqWpKnUxxDTzwCfr6qtCw1JZpKsa5afBhwB3N5DbZKkRpfTXC8C/gs4MsnWJKc1L53Eo4eXAJ4H3NBMe70UeF1Vfa2r2iRJS+tyFtPJu2l/dUvbZcBlXdUiSVo+z6SWJLUyICRJrQwISVIrA0KS1MqAkCS1MiAkSa0MCElSKwNCktTKgJAktTIgJEmtDAhJUisDQpLUyoCQJLUyICRJrQwISVIrA0KS1MqAkCS1MiAkSa26vCf1+Ul2JLlpqO3tSbYlub55vHjotbckuTXJLUl+rqu6JEmj6bIH8X7g+Jb2s6tqffO4CiDJUcBJwDOabf46yboOa5MkLaGzgKiqTwJfG3H1E4B/qKr7q+qLwK3As7uqTZK0tD6OQbwhyQ3NENRTmrZDgDuH1tnatEmSejLugDgXeDqwHtgOnLXcN0iyIcmmJJt27ty50vVJkhpjDYiququqHqqqh4H38O1hpG3AYUOrHtq0tb3Hxqqar6r5mZmZbguWpCk21oBIcvDQ05cBCzOcrgROSvKdSQ4HjgCuGWdtkqRH26+rN05yEfB84MAkW4G3Ac9Psh4oYAvwWoCq+mySS4DPAQ8Cr6+qh7qqTZK0tM4CoqpObmk+bw/rvwN4R1f1SJKWxzOpJUmtDAhJUisDQpLUyoCQJLUyICRJrQwISVIrA0KS1MqAkCS1MiAkSa0MCElSKwNCktTKgJAktTIgJEmtDAhJUisDQpLUyoCQJLUyICRJrQwISVKrzgIiyflJdiS5aajtT5N8PskNSa5IckDTPpfkviTXN4+/6aouSdJouuxBvB84flHb1cAzq+pHgP8G3jL02m1Vtb55vK7DuiRJI9ivqzeuqk8mmVvU9tGhp58CfqWr/UvTau70Dz+yvOXMl/RYiVa7Po9B/DrwL0PPD09yXZJPJDm2r6IkSQOd9SD2JMnvAw8CFzZN24HZqro7yY8CH0zyjKra1bLtBmADwOzs7LhKlqSpM1IPIskPr9QOk7wa+HngFVVVAFV1f1Xd3SxvBm4DfqBt+6raWFXzVTU/MzOzUmVJkhYZdYjpr5Nck+Q3kjx5b3eW5Hjg94CXVtW3htpnkqxrlp8GHAHcvrf7kSTtu5ECoqqOBV4BHAZsTvL3SV64p22SXAT8F3Bkkq1JTgP+EngScPWi6azPA25Icj1wKfC6qvra3v1KkqSVMPIxiKr6QpI/ADYBfw4cnSTAGVV1ecv6J7e8zXm7ee/LgMtGrUWS1L1Rj0H8SJKzgZuBFwC/UFU/1Cyf3WF9kqSejNqD+AvgvQx6C/ctNFbVl5tehSRpjRk1IF4C3FdVDwEkeQzwuKr6VlX9bWfVSZJ6M+ospo8Bjx96vn/TJklao0YNiMdV1TcWnjTL+3dTkiRpEow6xPTNJMdU1bUAzdnO9y2xjaQOec0ldW3UgHgj8I9JvgwE+F7g5Z1VJUnq3UgBUVWfSfKDwJFN0y1V9b/dlSVJ6ttyLtb3Y8Bcs80xSaiqCzqpStKyDA83SStlpIBI8rfA04HrgYea5gIMCElao0btQcwDRy1cfVWStPaNOs31JgYHpiVJU2LUHsSBwOeSXAPcv9BYVS/tpCpJUu9GDYi3d1mEJGnyjDrN9RNJvh84oqo+lmR/YF23pUmS+jTq5b5fw+BGPu9umg4BPthVUZKk/o16kPr1wHOBXTC4eRDwPV0VJUnq36gBcX9VPbDwJMl+DM6DkCStUaMGxCeSnAE8vrkX9T8C/7TURknOT7IjyU1DbU9NcnWSLzQ/n9K0J8mfJ7k1yQ1JjtmbX0iStDJGDYjTgZ3AjcBrgauAUe4k937g+Jb3+nhVHQF8vHkO8CLgiOaxATh3xNokSR0YdRbTw8B7msfIquqTSeYWNZ8APL9Z/gDwH8Cbm/YLmrO1P5XkgCQHV9X25exTkrQyRr0W0xdpOeZQVU/bi30eNPSl/xXgoGb5EODOofW2Nm0GhCT1YDnXYlrwOOBXgafu686rqpIs62B3kg0MhqCYnZ3d1xIkSbsx6hDT3Yua/izJZuCte7HPuxaGjpIcDOxo2rcBhw2td2jTtriWjcBGgPn5eWdSaVXzrnCaZKOeKHfM0GM+yetY3r0khl0JnNIsnwJ8aKj9Vc1spucA93j8QZL6M+qX/FlDyw8CW4ATl9ooyUUMDkgfmGQr8DbgTOCSJKcBdwy9z1XAi4FbgW8Bp45YmySpA6MOMf303rx5VZ28m5eOa1m3GJyxrUUchpDUh1FnMf3unl6vqnetTDmSpEmxnFlMP8bgOAHALwDXAF/ooihJUv9GDYhDgWOq6l6AJG8HPlxVv9ZVYZPOYR9Ja92ol9o4CHhg6PkDfPsEN0nSGjRqD+IC4JokVzTPf5HBZTIkSWvUqLOY3pHkX4Bjm6ZTq+q67sqSJPVtOSe77Q/sqqr3JZlJcnhVfbGrwqRp5jEuTYJRp7m+jcFMpiOB9wGPBf6OwV3m1gT/QUrSo43ag3gZcDRwLUBVfTnJkzqrapUxXDQuw/+vSV0bdRbTA82ZzgWQ5AndlSRJmgSjBsQlSd4NHJDkNcDHWObNgyRJq8uos5je2dyLeheD4xBvraqrO61MktSrJQMiyTrgY80F+wwFSZoSSwZEVT2U5OEkT66qe8ZR1CTxALSkaTXqLKZvADcmuRr45kJjVf1WJ1WtYgaKpLVi1IC4vHloLxkcWuBUVa0WewyIJLNV9aWq8rpLa8ziLylDS9JiS/UgPggcA5Dksqr65e5Lml72MtYW/3tqtVsqIDK0/LSV2GGSI4GLF73vW4EDgNcAO5v2M6rqqpXYp7SaOSSlviwVELWb5b1WVbcA6+GRKbTbgCuAU4Gzq+qdK7EfSdK+WSognpVkF4OexOObZZrnVVXftY/7Pw64raruSLLkyno0hzAkdWmPAVFV6zre/0nARUPP35DkVcAm4E1V9fXFGyTZAGwAmJ2d7bi8bvjFLmk1WM79IFZUku8AXgq8pWk6F/gjBkNZfwScBfz64u2qaiOwEWB+fn5Fhr0mkePOkvrWW0AALwKuraq7ABZ+AiR5D/DPfRUmLccoYW7gazUa9WquXTiZoeGlJAcPvfYy4KaxVyRJekQvPYjmfhIvBF471PwnSdYzGGLasui1sfKvPUnqKSCq6pvAdy9qe2UftXSpr6EHD4JLWgl9HoOQNMSeqyaNAbHK7O5LZNxfLuPspdgjkvrR50FqSdIEswchrWH2vrQv7EFIklrZg1jjpuUvyGn5PaVxMiCkveCMI00Dh5gkSa0MCElSK4eYBOzbGP5aGv/3Xt3StxkQyzDt487T/vtL08aAmCJr4Qu+z97KWvj8pOXwGIQkqZUBIUlqZUBIkloZEJKkVgaEJKlVb7OYkmwB7gUeAh6sqvkkTwUuBuYY3Hb0xKr6el81am1ZS+drSOPQ9zTXn66qrw49Px34eFWdmeT05vmb+ylteq3UF6lfyNLq1ndALHYC8Pxm+QPAf2BA9Mq5/9L06jMgCvhokgLeXVUbgYOqanvz+leAg3qrTmuCASftvT4D4qeqaluS7wGuTvL54RerqprweJQkG4ANALOzs+OpVBPJL3+pW70FRFVta37uSHIF8GzgriQHV9X2JAcDO1q22whsBJifn/9/AaLJ57EJaXXoJSCSPAF4TFXd2yz/LPCHwJXAKcCZzc8P9VGfVp5/7UurT189iIOAK5Is1PD3VfWRJJ8BLklyGnAHcGJP9UnS1OslIKrqduBZLe13A8eNvyJJ0mKeSS1JamVASJJaTdqJcppizm6SJos9CElSK3sQmkr2VqSlGRBaUZ7vIK0dBoTWnOWGlKEmtTMgpD0wPDTNPEgtSWplQEiSWhkQkqRWHoNQrxzjlyaXPQhJUit7ENKU8ORALZc9CElSKwNCktTKISZNJA9eS/2zByFJajX2HkSSw4ALGNyXuoCNVXVOkrcDrwF2NqueUVVXjbs+aRp4wFqj6GOI6UHgTVV1bZInAZuTXN28dnZVvbOHmiRJi4w9IKpqO7C9Wb43yc3AIeOuQ5K0Z70eg0gyBxwNfLppekOSG5Kcn+QpvRUmSeovIJI8EbgMeGNV7QLOBZ4OrGfQwzhrN9ttSLIpyaadO3e2rSJJWgG9BESSxzIIhwur6nKAqrqrqh6qqoeB9wDPbtu2qjZW1XxVzc/MzIyvaEmaMn3MYgpwHnBzVb1rqP3g5vgEwMuAm8ZdmzTtnN2kYX3MYnou8ErgxiTXN21nACcnWc9g6usW4LU91CZJavQxi+k/gbS85DkPkjRBvNSGpFYON8mAkLRiDJW1xWsxSZJaGRCSpFYGhCSplQEhSWplQEiSWhkQkqRWTnOVtGxOZ50OBoQ05Sbx/t8G0GQwICSNlV/+q4cBIWlJe9PLMAhWPwNC0j7ZlyGq5YbI7vZlAHXDgJDUuVFCZBKPhUw7p7lKklrZg5C06nm8oxsGhKQ1xbBYOQ4xSZJaTVwPIsnxwDnAOuC9VXVmzyVJ6tE4D17b+3i0iQqIJOuAvwJeCGwFPpPkyqr6XL+VSVqN9uULf3fbTlOITFRAAM8Gbq2q2wGS/ANwAmBASFoxy+2V7GsvZrWevzFpAXEIcOfQ863Aj/dUi6Q1ZDWdZzEpvZdJC4glJdkAbGiefiPJLfvwdgcCX933qlY1PwM/A/AzWLCszyF/vG87G2X73a2zj/v+/lFWmrSA2AYcNvT80KbtEVW1Edi4EjtLsqmq5lfivVYrPwM/A/AzWODn8GiTNs31M8ARSQ5P8h3AScCVPdckSVNponoQVfVgkjcA/8pgmuv5VfXZnsuSpKk0UQEBUFVXAVeNaXcrMlS1yvkZ+BmAn8ECP4chqaq+a5AkTaBJOwYhSZoQUxkQSY5PckuSW5Oc3nc945bksCT/nuRzST6b5Lf7rqkvSdYluS7JP/ddS1+SHJDk0iSfT3Jzkp/ou6ZxS/I7zb+Fm5JclORxfdc0CaYuIIYu5/Ei4Cjg5CRH9VvV2D0IvKmqjgKeA7x+Cj+DBb8N3Nx3ET07B/hIVf0g8Cym7PNIcgjwW8B8VT2TwQSZk/qtajJMXUAwdDmPqnoAWLicx9Soqu1VdW2zfC+DL4RD+q1q/JIcCrwEeG/ftfQlyZOB5wHnAVTVA1X1P/1W1Yv9gMcn2Q/YH/hyz/VMhGkMiLbLeUzdl+OCJHPA0cCn+62kF38G/B7wcN+F9OhwYCfwvmao7b1JntB3UeNUVduAdwJfArYD91TVR/utajJMY0CokeSJwGXAG6tqV9/1jFOSnwd2VNXmvmvp2X7AMcC5VXU08E1gqo7LJXkKg1GEw4HvA56Q5Nf6rWoyTGNALHk5j2mQ5LEMwuHCqrq873p68FzgpUm2MBhmfEGSv+u3pF5sBbZW1UIP8lIGgTFNfgb4YlXtrKr/BS4HfrLnmibCNAbE1F/OI0kYjDnfXFXv6ruePlTVW6rq0KqaY/D/wL9V1dT91VhVXwHuTHJk03Qc03d5/S8Bz0myf/Nv4zim7ED97kzcmdRd83IewOCv51cCNya5vmk7ozmLXdPnN4ELmz+YbgdO7bmesaqqTye5FLiWwQy/6/CMasAzqSVJuzGNQ0ySpBEYEJKkVgaEJKmVASFJamVASJJaGRCSpFYGhCSplQEhSWr1f60V57czCYkDAAAAAElFTkSuQmCC\n",
      "text/plain": [
       "<Figure size 432x288 with 1 Axes>"
      ]
     },
     "metadata": {},
     "output_type": "display_data"
    }
   ],
   "source": [
    "# band gaps\n",
    "print('how many are metals?', len(df[df['band_gap'] == 0.0]), '/', len(df))\n",
    "print('material with highest band gap', df['band_gap'].max(), df.loc[df['band_gap'].idxmax()]['pretty_formula'])\n",
    "\n",
    "condition = (df['band_gap'] > 0.0) & (df['band_gap'] < 10)\n",
    "df[condition]['band_gap'].plot.hist(bins=100)"
   ]
  },
  {
   "cell_type": "code",
   "execution_count": 100,
   "metadata": {},
   "outputs": [
    {
     "data": {
      "text/plain": [
       "<matplotlib.axes._subplots.AxesSubplot at 0x7fb215dcb518>"
      ]
     },
     "execution_count": 100,
     "metadata": {},
     "output_type": "execute_result"
    },
    {
     "data": {
      "image/png": "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\n",
      "text/plain": [
       "<Figure size 432x288 with 1 Axes>"
      ]
     },
     "metadata": {},
     "output_type": "display_data"
    }
   ],
   "source": [
    "# cohesive energies\n",
    "df['energy'].plot.hist(bins=100)"
   ]
  },
  {
   "cell_type": "code",