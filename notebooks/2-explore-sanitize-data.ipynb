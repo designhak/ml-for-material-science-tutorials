{
 "cells": [
  {
   "cell_type": "markdown",
   "metadata": {},
   "source": [
    "# Sanitizing Data\n",
    "\n",
    "Often data is messy. In our case we have two 