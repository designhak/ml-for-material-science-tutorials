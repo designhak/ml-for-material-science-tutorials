{
 "cells": [
  {
   "cell_type": "markdown",
   "metadata": {},
   "source": [
    "# Sanitizing Data\n",
    "\n",
    "Often data is messy. In our case we have two problems with the data.\n",
    "\n",
    " - values are missing\n",
    " - not in a format easy to do machine learning on.\n",
    " \n",
    "Machine Learning algorithms and in general all statistics algorithms like arrays."
   ]
  },
  {
   "cell_type": "code",
   "execution_count": 116,
   "metadata": {},
   "outputs": [],
   "source": [
    "import json\n",
    "from collections import defaultdict\n",
    "import re\n",
    "\n",
    "import pandas as pd\n",
    "import numpy as np\n",
    "import requests\n",
    "\n",
    "def convert_dict_to_pandas_frame(data, dict_frames):\n",
    "    data_columns = defaultdict(list)\n",
    "    for d in data.values():\n",
    "        for key in dict_frames:\n",
    "            subkey = d\n",
    "            subkeys = dict_frames[key].split('.')\n",
    "            for k in subkeys:\n",
    "                if re.match(r'\\d+', k) and subkey is not None:\n",
    "                    index = int(k)\n",
    "                    if index >= len(subkey):\n",
    "                        subkey = None\n",
    "                    else:\n",
    "                        subkey = subkey[index]\n",
    "                else:\n",
    "                    if subkey is not None:\n",
    "                        subkey = subkey.get(k)\n",
    "            data_columns[key].append(subkey)\n",
    "    df = pd.DataFrame.from_dict(data_columns)\n",
    "    return df.set_index('material_id')"
   ]
  },
  {
   "cell_type": "code",
   "execution_count": 117,
   "metadata": {},
   "outputs": [
    {
     "name": "stdout",
     "output_type": "stream",
     "text": [
      "Number of materials 6928\n"
     ]
    }
   ],
   "source": [
    "## data will not be available locally so we need to download it\n",
    "# data = json.load(open('../data/mpdata.json'))\n",
    "data = requests.get('https://gitlab.com/costrouc/mse-machinelearning-notebooks/raw/master/data/mpdata.json').json()\n",
    "print('Number of materials', len(data))"
   ]
  },
  {
   "cell_type": "markdown",
   "metadata": {},
   "source": [
    "If we look at one of the materials we can see that the data is not in the best format."
   ]
  },
  {
   "cell_type": "code",
   "execution_count": 6,
   "metadata": {},
   "outputs": [
    {
     "data": {
      "text/plain": [
       "{'energy': -4.0645998,\n",
       " 'energy_per_atom': -4.0645998,\n",
       " 'volume': 11.852765009390795,\n",
       " 'formation_energy_per_atom': 0.03469247000000042,\n",
       " 'nsites': 1,\n",
       " 'unit_cell_formula': {'Cu': 1.0},\n",
       " 'pretty_formula': 'Cu',\n",
       " 'is_hubbard': False,\n",
       " 'elements': ['Cu'],\n",
       " 'nelements': 1,\n",
       " 'e_above_hull': 0.03469247000000042,\n",
       " 'hubbards': {},\n",
       " 'is_compatible': True,\n",
       " 'spacegroup': {'source': 'spglib',\n",
       "  'symbol': 'Im-3m',\n",
       "  'number': 229,\n",
       "  'point_group': 'm-3m',\n",
       "  'crystal_system': 'cubic',\n",
       "  'hall': '-I 4 2 3'},\n",
       " 'task_ids': ['mp-998890',\n",
       "  'mp-998895',\n",
       "  'mp-998898',\n",
       "  'mp-998906',\n",
       "  'mp-1056211',\n",
       "  'mp-1056219',\n",
       "  'mp-1056226',\n",
       "  'mp-1056233'],\n",
       " 'band_gap': 0.0,\n",
       " 'density': 8.902615866613178,\n",
       " 'icsd_id': None,\n",
       " 'icsd_ids': [183263],\n",
       " 'cif': \"# generated using pymatgen\\ndata_Cu\\n_symmetry_space_group_name_H-M   'P 1'\\n_cell_length_a   2.48779079\\n_cell_length_b   2.48779079\\n_cell_length_c   2.48779079\\n_cell_angle_alpha   109.47122063\\n_cell_angle_beta   109.47122063\\n_cell_angle_gamma   109.47122063\\n_symmetry_Int_Tables_number   1\\n_chemical_formula_structural   Cu\\n_chemical_formula_sum   Cu1\\n_cell_volume   11.85276501\\n_cell_formula_units_Z   1\\nloop_\\n _symmetry_equiv_pos_site_id\\n _symmetry_equiv_pos_as_xyz\\n  1  'x, y, z'\\nloop_\\n _atom_site_type_symbol\\n _atom_site_label\\n _atom_site_symmetry_multiplicity\\n _atom_site_fract_x\\n _atom_site_fract_y\\n _atom_site_fract_z\\n _atom_site_occupancy\\n  Cu  Cu1  1  0.000000  0.000000  0.000000  1\\n\",\n",
       " 'total_magnetization': -7e-07,\n",
       " 'material_id': 'mp-998890',\n",
       " 'oxide_type': 'None',\n",
       " 'tags': ['Copper', 'High pressure experimental phase'],\n",
       " 'elasticity': {'G_Reuss': -17.960241741427517,\n",
       "  'G_VRH': 19.06895589595666,\n",
       "  'G_Voigt': 56.098153533340835,\n",
       "  'G_Voigt_Reuss_Hill': 19.06895589595666,\n",
       "  'K_Reuss': 145.87229552135727,\n",
       "  'K_VRH': 145.87229552135733,\n",
       "  'K_Voigt': 145.87229552135736,\n",
       "  'K_Voigt_Reuss_Hill': 145.87229552135733,\n",
       "  'elastic_anisotropy': -20.617315830427692,\n",
       "  'elastic_tensor': [[137.0, 150.0, 150.0, -0.0, 0.0, 0.0],\n",
       "   [150.0, 137.0, 150.0, 0.0, -0.0, -0.0],\n",
       "   [150.0, 150.0, 137.0, -0.0, 0.0, -0.0],\n",
       "   [-0.0, 0.0, -0.0, 98.0, 0.0, 0.0],\n",
       "   [0.0, -0.0, 0.0, 0.0, 98.0, 0.0],\n",
       "   [0.0, -0.0, -0.0, 0.0, 0.0, 98.0]],\n",
       "  'homogeneous_poisson': 0.43736737340081105,\n",
       "  'poisson_ratio': 0.43736737340081105,\n",
       "  'universal_anisotropy': -20.617315830427692,\n",
       "  'elastic_tensor_original': [[137.23435775103798,\n",
       "    150.17225544048853,\n",
       "    150.20736652133866,\n",
       "    0.0,\n",
       "    0.00570621333333458,\n",
       "    -0.0016961700000014818],\n",
       "   [150.17956449887507,\n",
       "    137.23059429293244,\n",
       "    150.20736652133866,\n",
       "    0.0011605700000007649,\n",
       "    0.00553183666666768,\n",
       "    -0.001712109999999591],\n",
       "   [150.17956449887507,\n",
       "    150.17225544048853,\n",
       "    137.26733472684245,\n",
       "    0.0,\n",
       "    0.0056197499999995045,\n",
       "    -0.0018734200000007824],\n",
       "   [0.0, 0.0, 0.0, 97.81118299333336, 0.0, 0.0],\n",
       "   [0.0, 0.0, 0.0, 0.0, 97.81105978333335, 0.0],\n",
       "   [0.0, 0.0, 0.0, 0.0, 0.0, 97.81082478666669]],\n",
       "  'nsites': 1,\n",
       "  'compliance_tensor': [[-50.7, 26.5, 26.5, -0.0, -0.0, 0.0],\n",
       "   [26.5, -50.7, 26.5, 0.0, -0.0, -0.0],\n",
       "   [26.5, 26.5, -50.7, -0.0, 0.0, -0.0],\n",
       "   [-0.0, 0.0, -0.0, 10.2, 0.0, 0.0],\n",
       "   [-0.0, -0.0, 0.0, 0.0, 10.2, 0.0],\n",
       "   [0.0, -0.0, -0.0, 0.0, 0.0, 10.2]]},\n",
       " 'full_formula': 'Cu1'}"
      ]
     },
     "execution_count": 6,
     "metadata": {},
     "output_type": "execute_result"
    }
   ],
   "source": [
    "first_key = next(iter(data))\n",
    "data[first_key]"
   ]
  },
  {
   "cell_type": "markdown",
   "metadata": {},
   "source": [
    "Always aim to convert your data to a tabular form first"
   ]
  },
  {
   "cell_type": "code",
   "execution_count": 118,
   "metadata": {},
   "outputs": [],
   "source": [
    "key_map = {\n",
    "    'material_id': 'material_id',\n",
    "    'energy': 'energy',\n",
    "    'volume': 'volume',\n",
    "    'nsites': 'nsites',\n",
    "    'energy_per_atom': 'energy_per_atom',\n",
    "    'pretty_formula': 'pretty_formula',\n",
    "    'spacegroup': 'spacegroup.number',\n",
    "    'band_gap': 'band_gap',\n",
    "    'density': 'density',\n",
    "    'total_magnetization': 'total_magnetization',\n",
    "    # Elacticity\n",
    "    'poisson_ratio': 'elasticity.poisson_ratio',\n",
    "    'bulk_modulus_voigt': 'elasticity.K_Voigt',\n",
    "    'bulk_modulus_reuss': 'elasticity.K_Reuss',\n",
    "    'bulk_modulus_vrh': 'elasticity.K_VRH',\n",
    "    'shear_modulus_voigt': 'elasticity.G_Voigt',\n",
    "    'shear_modulus_vrh': 'elasticity.G_VRH'\n",
    "}\n",
    "\n",
    "df = convert_dict_to_pandas_frame(data, key_map)"
   ]
  },
  {
   "cell_type": "code",
   "execution_count": 119,
   "metadata": {},
   "outputs": [
    {
     "name": "stdout",
     "output_type": "stream",
     "text": [
      "<class 'pandas.core.frame.DataFrame'>\n",
      "Index: 6928 entries, mp-998890 to mp-30883\n",
      "Data columns (total 15 columns):\n",
      "energy                 6928 non-null float64\n",
      "volume                 6928 non-null float64\n",
      "nsites                 6928 non-null int64\n",
      "energy_per_atom        6928 non-null float64\n",
      "pretty_formula         6928 non-null object\n",
      "spacegroup             6928 non-null int64\n",
      "band_gap               6928 non-null float64\n",
      "density                6928 non-null float64\n",
      "total_magnetization    6928 non-null float64\n",
      "poisson_ratio          896 non-null float64\n",
      "bulk_modulus_voigt     896 non-null float64\n",
      "bulk_modulus_reuss     896 non-null float64\n",
      "bulk_modulus_vrh       896 non-null float64\n",
      "shear_modulus_voigt    896 non-null float64\n",
      "shear_modulus_vrh      896 non-null float64\n",
      "dtypes: float64(12), int64(2), object(1)\n",
      "memory usage: 866.0+ KB\n"
     ]
    }
   ],
   "source": [
    "df.info()"
   ]
  },
  {
   "cell_type": "code",
   "execution_count": 120,
   "metadata": {},
   "outputs": [
    {
     "data": {
      "text/html": [
       "<div>\n",
       "<style scoped>\n",
       "    .dataframe tbody tr th:only-of-type {\n",
       "        vertical-align: middle;\n",
       "    }\n",
       "\n",
       "    .dataframe tbody tr th {\n",
       "        vertical-align: top;\n",
       "    }\n",
       "\n",
       "    .dataframe thead th {\n",
       "        text-align: right;\n",
       "    }\n",
       "</style>\n",
       "<table border=\"1\" class=\"dataframe\">\n",
       "  <thead>\n",
       "    <tr style=\"text-align: right;\">\n",
       "      <th></th>\n",
       "      <th>energy</th>\n",
       "      <th>volume</th>\n",
       "      <th>nsites</th>\n",
       "      <th>energy_per_atom</th>\n",
       "      <th>pretty_formula</th>\n",
       "      <th>spacegroup</th>\n",
       "      <th>band_gap</th>\n",
       "      <th>density</th>\n",
       "      <th>total_magnetization</th>\n",
       "      <th>poisson_ratio</th>\n",
       "      <th>bulk_modulus_voigt</th>\n",
       "      <th>bulk_modulus_reuss</th>\n",
       "      <th>bulk_modulus_vrh</th>\n",
       "      <th>shear_modulus_voigt</th>\n",
       "      <th>shear_modulus_vrh</th>\n",
       "    </tr>\n",
       "    <tr>\n",
       "      <th>material_id</th>\n",
       "      <th></th>\n",
       "      <th></th>\n",
       "      <th></th>\n",
       "      <th></th>\n",
       "      <th></th>\n",
       "      <th></th>\n",
       "      <th></th>\n",
       "      <th></th>\n",
       "      <th></th>\n",
       "      <th></th>\n",
       "      <th></th>\n",
       "      <th></th>\n",
       "      <th></th>\n",
       "      <th></th>\n",
       "      <th></th>\n",
       "    </tr>\n",
       "  </thead>\n",
       "  <tbody>\n",
       "    <tr>\n",
       "      <th>mvc-15868</th>\n",
       "      <td>-102.229807</td>\n",
       "      <td>182.562400</td>\n",
       "      <td>20</td>\n",
       "      <td>-5.111490</td>\n",
       "      <td>ZnCoO3</td>\n",
       "      <td>62</td>\n",
       "      <td>0.0000</td>\n",
       "      <td>6.270250</td>\n",
       "      <td>4.401870</td>\n",
       "      <td>NaN</td>\n",
       "      <td>NaN</td>\n",
       "      <td>NaN</td>\n",
       "      <td>NaN</td>\n",
       "      <td>NaN</td>\n",
       "      <td>NaN</td>\n",
       "    </tr>\n",
       "    <tr>\n",
       "      <th>mp-714908</th>\n",
       "      <td>-278.665566</td>\n",
       "      <td>451.645416</td>\n",
       "      <td>42</td>\n",
       "      <td>-6.634894</td>\n",
       "      <td>Fe10O11</td>\n",
       "      <td>2</td>\n",
       "      <td>0.5045</td>\n",
       "      <td>5.400573</td>\n",
       "      <td>2.000009</td>\n",
       "      <td>NaN</td>\n",
       "      <td>NaN</td>\n",
       "      <td>NaN</td>\n",
       "      <td>NaN</td>\n",
       "      <td>NaN</td>\n",
       "      <td>NaN</td>\n",
       "    </tr>\n",
       "    <tr>\n",
       "      <th>mp-2327</th>\n",
       "      <td>-58.231276</td>\n",
       "      <td>518.171632</td>\n",
       "      <td>34</td>\n",
       "      <td>-1.712685</td>\n",
       "      <td>TiZn16</td>\n",
       "      <td>63</td>\n",
       "      <td>0.0000</td>\n",
       "      <td>7.014325</td>\n",
       "      <td>0.000033</td>\n",
       "      <td>0.341793</td>\n",
       "      <td>79.294827</td>\n",
       "      <td>78.599764</td>\n",
       "      <td>78.947295</td>\n",
       "      <td>29.014697</td>\n",
       "      <td>27.925264</td>\n",
       "    </tr>\n",
       "    <tr>\n",
       "      <th>mvc-12563</th>\n",
       "      <td>-183.252030</td>\n",
       "      <td>324.836376</td>\n",
       "      <td>28</td>\n",
       "      <td>-6.544715</td>\n",
       "      <td>Mn2ZnO4</td>\n",
       "      <td>59</td>\n",
       "      <td>0.2972</td>\n",
       "      <td>4.892780</td>\n",
       "      <td>32.000000</td>\n",
       "      <td>NaN</td>\n",
       "      <td>NaN</td>\n",
       "      <td>NaN</td>\n",
       "      <td>NaN</td>\n",
       "      <td>NaN</td>\n",
       "      <td>NaN</td>\n",
       "    </tr>\n",
       "    <tr>\n",
       "      <th>mp-1038987</th>\n",
       "      <td>-19.747382</td>\n",
       "      <td>310.753063</td>\n",
       "      <td>12</td>\n",
       "      <td>-1.645615</td>\n",
       "      <td>CaMg5</td>\n",
       "      <td>38</td>\n",
       "      <td>0.0000</td>\n",
       "      <td>1.727083</td>\n",
       "      <td>-0.000737</td>\n",
       "      <td>NaN</td>\n",
       "      <td>NaN</td>\n",
       "      <td>NaN</td>\n",
       "      <td>NaN</td>\n",
       "      <td>NaN</td>\n",
       "      <td>NaN</td>\n",
       "    </tr>\n",
       "  </tbody>\n",
       "</table>\n",
       "</div>"
      ],
      "text/plain": [
       "                 energy      volume  nsites  energy_per_atom pretty_formula  \\\n",
       "material_id                                                                   \n",
       "mvc-15868   -102.229807  182.562400      20        -5.111490         ZnCoO3   \n",
       "mp-714908   -278.665566  451.645416      42        -6.634894        Fe10O11   \n",
       "mp-2327      -58.231276  518.171632      34        -1.712685         TiZn16   \n",
       "mvc-12563   -183.252030  324.836376      28        -6.544715        Mn2ZnO4   \n",
       "mp-1038987   -19.747382  310.753063      12        -1.645615          CaMg5   \n",
       "\n",
       "             spacegroup  band_gap   density  total_magnetization  \\\n",
       "material_id                                                        \n",
       "mvc-15868            62    0.0000  6.270250             4.401870   \n",
       "mp-714908             2    0.5045  5.400573             2.000009   \n",
       "mp-2327              63    0.0000  7.014325             0.000033   \n",
       "mvc-12563            59    0.2972  4.892780            32.000000   \n",
       "mp-1038987           38    0.0000  1.727083            -0.000737   \n",
       "\n",
       "             poisson_ratio  bulk_modulus_voigt  bulk_modulus_reuss  \\\n",
       "material_id                                                          \n",
       "mvc-15868              NaN                 NaN                 NaN   \n",
       "mp-714908              NaN                 NaN                 NaN   \n",
       "mp-2327           0.341793           79.294827           78.599764   \n",
       "mvc-12563              NaN                 NaN                 NaN   \n",
       "mp-1038987             NaN                 NaN                 NaN   \n",
       "\n",
       "             bulk_modulus_vrh  shear_modulus_voigt  shear_modulus_vrh  \n",
       "material_id                                                            \n",
       "mvc-15868                 NaN                  NaN                NaN  \n",
       "mp-714908                 NaN                  NaN                NaN  \n",
       "mp-2327             78.947295            29.014697          27.925264  \n",
       "mvc-12563                 NaN                  NaN                NaN  \n",
       "mp-1038987                NaN                  NaN                NaN  "
      ]
     },
     "execution_count": 120,
     "metadata": {},
     "output_type": "execute_result"
    }
   ],
   "source": [
    "df.sample(5)"
   ]
  },
  {
   "cell_type": "code",
   "execution_count": 121,
   "metadata": {},
   "outputs": [],
   "source": [
    "# write the data to a csv file\n",
    "df.to_csv('../data/mpdata.csv')"
   ]
  },
  {
   "cell_type": "markdown",
   "metadata": {},
   "source": [
    "# Lets Explore the Data\n",
    "\n",
    "Exploring the data is important."
   ]
  },
  {
   "cell_type": "code",
   "execution_count": 88,
   "metadata": {},
   "outputs": [
    {
     "data": {
      "text/plain": [
       "6928"
      ]
     },
     "execution_count": 88,
     "metadata": {},
     "output_type": "execute_result"
    }
   ],
   "source": [
    "# how many materials are we looking at?\n",
    "len(df)"
   ]
  },
  {
   "cell_type": "code",
   "execution_count": 87,
   "metadata": {},
   "outputs": [
    {
     "data": {
      "text/plain": [
       "1      680\n",
       "14     584\n",
       "2      452\n",
       "12     314\n",
       "62     291\n",
       "8      251\n",
       "15     208\n",
       "63     205\n",
       "166    160\n",
       "225    158\n",
       "221    155\n",
       "194    146\n",
       "123    117\n",
       "227    110\n",
       "61     102\n",
       "74      99\n",
       "5       96\n",
       "139     88\n",
       "19      86\n",
       "4       83\n",
       "160     81\n",
       "33      72\n",
       "6       72\n",
       "186     71\n",
       "11      69\n",
       "Name: spacegroup, dtype: int64"
      ]
     },
     "execution_count": 87,
     "metadata": {},
     "output_type": "execute_result"
    }
   ],
   "source": [
    "# look at most common spacegroups\n",
    "df['spacegroup'].value_counts()[:25]"
   ]
  },
  {
   "cell_type": "code",
   "execution_count": 115,
   "metadata": {},
   "outputs": [
    {
     "name": "stdout",
     "output_type": "stream",
     "text": [
      "how many are metals? 2270 / 6928\n",
      "material with highest band gap 17.8914 He\n"
     ]
    },
    {
     "data": {
      "text/plain": [
       "<matplotlib.axes._subplots.AxesSubplot at 0x7fb214ddf780>"
      ]
     },
     "execution_count": 115,
     "metadata": {},
     "output_type": "execute_result"
    },
    {
     "data": {
      "image/png": "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