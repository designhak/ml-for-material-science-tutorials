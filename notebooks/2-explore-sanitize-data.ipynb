{
 "cells": [
  {
   "cell_type": "markdown",
   "metadata": {},
   "source": [
    "# Sanitizing Data\n",
    "\n",
    "Often data is messy. In our case we have two problems with the data.\n",
    "\n",
    " - values are missing\n",
    " - not in a format easy to do machine learning on.\n",
    " \n",
    "Machine Learning algorithms and in general all statistics algorithms like arrays."
   ]
  },
  {
   "cell_type": "code",
   "execution_count": 116,
   "metadata": {},
   "outputs": [],
   "source": [
    "import json\n",
    "from collections import defaultdict\n",
    "import re\n",
    "\n",
    "import pandas as pd\n",
    "import numpy as np\n",
    "import requests\n",
    "\n",
    "def convert_dict_to_pandas_frame(data, dict_frames):\n",
    "    data_columns = defaultdict(list)\n",
    "    for d in data.values():\n",
    "        for key in dict_frames:\n",
    "            subkey = d\n",
    "            subkeys = dict_frames[key].split('.')\n",
    "            for k in subkeys:\n",
    "                if re.match(r'\\d+', k) and subkey is not None:\n",
    "                    index = int(k)\n",
    "                    if index >= len(subkey):\n",
    "                        subkey = None\n",
    "                   