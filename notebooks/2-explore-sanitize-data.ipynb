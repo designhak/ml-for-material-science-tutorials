{
 "cells": [
  {
   "cell_type": "markdown",
   "metadata": {},
   "source": [
    "# Sanitizing Data\n",
    "\n",
    "Often data is messy. In our case we have two problems with the data.\n",
    "\n",
    " - values are missing\n",
    " - not in a format easy to do machine learning on.\n",
    " \n",
    "Machine Learning algorithms and in general all statistics algorithms like arrays."
   ]
  },
  {
   "cell_type": "code",
   "execution_count": 116,
   "metadata": {},
   "outputs": [],
   "source": [
    "import json\n",
    "from collections import defaultdict\n",
    "import re\n",
    "\n",
    "import pandas as pd\n",
    "import numpy as np\n",
    "import requests\n",
    "\n",
    "def convert_dict_to_pandas_frame(data, dict_frames):\n",
    "    data_columns = defaultdict(list)\n",
    "    for d in data.values():\n",
    "        for key in dict_frames:\n",
    "            subkey = d\n",
    "            subkeys = dict_frames[key].split('.')\n",
    "            for k in subkeys:\n",
    "                if re.match(r'\\d+', k) and subkey is not None:\n",
    "                    index = int(k)\n",
    "                    if index >= len(subkey):\n",
    "                        subkey = None\n",
    "                    else:\n",
    "                        subkey = subkey[index]\n",
    "                else:\n",
    "                    if subkey is not None:\n",
    "                        subkey = subkey.get(k)\n",
    "            data_columns[key].append(subkey)\n",
    "    df = pd.DataFrame.from_dict(data_columns)\n",
    "    return df.set_index('material_id')"
   ]
  },
  {
   "cell_type": "code",
   "execution_count": 117,
   "metadata": {},
   "outputs": [
    {
     "name": "stdout",
     "output_type": "stream",
     "text": [
      "Number of materials 6928\n"
     ]
    }
   ],
   "source": [
    "## data will not be available locally so we need to download it\n",
    "# data = json.load(open('../data/mpdata.json'))\n",
    "data = requests.get('https://gitlab.com/costrouc/mse-machinelearning-notebooks/raw/master/data/mpdata.json').json()\n",
    "print('Number of materials', len(data))"
   ]
  },
  {
   "cell_type": "markdown",
   "metadata": {},
   "source": [
    "If we look at one of the materials we can see that the data is not in the best format."
   ]
  },
  {
   "cell_type": "code",
   "execution_count": 6,
   "metadata": {},
   "outputs": [
    {
     "data": {
      "text/plain": [
       "{'energy': -4.0645998,\n",
       " 'energy_per_atom': -4.0645998,\n",
       " 'volume': 11.852765009390795,\n",
       " 'formation_energy_per_atom': 0.03469247000000042,\n",
       " 'nsites': 1,\n",
       " 'unit_cell_formula': {'Cu': 1.0},\n",
       " 'pretty_formula': 'Cu',\n",
       " 'is_hubbard': False,\n",
       " 'elements': ['Cu'],\n",
       " 'nelements': 1,\n",
       " 'e_above_hull': 0.03469247000000042,\n",
       " 'hubbards': {},\n",
       " 'is_compatible': True,\n",
       " 'spacegroup': {'source': 'spglib',\n",
       "  'symbol': 'Im-3m',\n",
       "  'number': 229,\n",
       "  'point_group': 'm-3m',\n",
       "  'crystal_system': 'cubic',\n",
       "  'hall': '-I 4 2 3'},\n",
       " 'task_ids': ['mp-998890',\n",
       "  'mp-998895',\n",
       "  'mp-998898',\n",
       "  'mp-998906',\n",
       "  'mp-1056211',\n",
       "  'mp-1056219',\n",
       "  'mp-1056226',\n",
       "  'mp-1056233'],\n",
       " 'band_gap': 0.0,\n",
       " 'density': 8.902615866613178,\n",
       " 'icsd_id': None,\n",
       " 'icsd_ids': [183263],\n",
       " 'cif': \"# generated using pymatgen\\ndata_Cu\\n_symmetry_space_group_name_H-M   'P 1'\\n_cell_length_a   2.48779079\\n_cell_length_b   2.48779079\\n_cell_length_c   2.48779079\\n_cell_angle_alpha   109.47122063\\n_cell_angle_beta   109.47122063\\n_cell_angle_gamma   109.47122063\\n_symmetry_Int_Tables_number   1\\n_chemical_formula_structural   Cu\\n_chemical_formula_sum   Cu1\\n_cell_volume   11.85276501\\n_cell_formula_units_Z   1\\nloop_\\n _symmetry_equiv_pos_site_id\\n _symmetry_equiv_pos_as_xyz\\n  1  'x, y, z'\\nloop_\\n _atom_site_type_symbol\\n _atom_site_label\\n _atom_site_symmetry_multiplicity\\n _atom_site_fract_x\\n _atom_site_fract_y\\n _atom_site_fract_z\\n _atom_site_occupancy\\n  Cu  Cu1  1  0.000000  0.000000  0.000000  1\\n\",\n",
       " 'total_magnetization': -7e-07,\n",
       " 'material_id': 'mp-998890',\n",
       " 'oxide_type': 'None',\n",
       " 'tags': ['Copper', 'High pressure experimental phase'],\n",
       " 'elasticity': {'G_Reuss': -17.960241741427517,\n",
       "  'G_VRH': 19.06895589595666,\n",
       "  'G_Voigt': 56.098153533340835,\n",
       "  'G_Voigt_Reuss_Hill': 19.06895589595666,\n",
       "  'K_Reuss': 145.87229552135727,\n",
       "  'K_VRH': 145.87229552135733,\n",
       "  'K_Voigt': 145.87229552135736,\n",
       "  'K_Voigt_Reuss_Hill': 145.87229552135733,\n",
       "  'elastic_anisotropy': -20.617315830427692,\n",
       "  'elastic_tensor': [[137.0, 150.0, 150.0, -0.0, 0.0, 0.0],\n",
       "   [150.0, 137.0, 150.0, 0.0, -0.0, -0.0],\n",
       "   [150.0, 150.0, 137.0, -0.0, 0.0, -0.0],\n",
       "   [-0.0, 0.0, -0.0, 98.0, 0.0, 0.0],\n",
       "   [0.0, -0.0, 0.0, 0.0, 98.0, 0.0],\n",
       "   [0.0, -0.0, -0.0, 0.0, 0.0, 98.0]],\n",
       "  'homogeneous_poisson': 0.43736737340081105,\n",
       "  'poisson_ratio': 0.43736737340081105,\n",
       "  'universal_anisotropy': -20.617315830427692,\n",
       "  'elastic_tensor_original': [[137.23435775103798,\n",
       "    150.17225544048853,\n",
       "    150.20736652133866,\n",
       "    0.0,\n",
       "    0.00570621333333458,\n",
       "    -0.0016961700000014818],\n",
       "   [150.17956449887507,\n",
       "    137.23059429293244,\n",
       "    150.20736652133866,\n",
       "    0.0011605700000007649,\n",
       "    0.00553183666666768,\n",
       "    -0.001712109999999591],\n",
       "   [150.17956449887507,\n",
       "    150.17225544048853,\n",
       "    137.26733472684245,\n",
       "    0.0,\n",
       "    0.0056197499999995045,\n",
       "    -0.0018734200000007824],\n",
       "   [0.0, 0.0, 0.0, 97.81118299333336, 0.0, 0.0],\n",
       "   [0.0, 0.0, 0.0, 0.0, 97.81105978333335, 0.0],\n",
       "   [0.0, 0.0, 0.0, 0.0, 0.0, 97.81082478666669]],\n",
       "  'nsites': 1,\n",
       "  'compliance_tensor': [[-50.7, 26.5, 26.5, -0.0, -0.0, 0.0],\n",
       "   [26.5, -50.7, 26.5, 0.0, -0.0, -0.0],\n",
       "   [26.5, 26.5, -50.7, -0.0, 0.0, -0.0],\n",
       "   [-0.0, 0.0, -0.0, 10.2, 0.0, 0.0],\n",
       "   [-0.0, -0.0, 0.0, 0.0, 10.2, 0.0],\n",
       "   [0.0, -0.0, -0.0, 0.0, 0.0, 10.2]]},\n",
       " 'full_formula': 'Cu1'}"
      ]
     },
     "execution_count": 6,
     "metadata": {},
     "output_type": "execute_result"
    }
   ],
   "source": [
    "first_key = next(iter(data))\n",
    "data[first_key]"
   ]
  },
  {
   "cell_type": "markdown",
   "metadata": {},
   "source": [
    "Always aim to convert your data to a tabular form first"
   ]
  },
  {
   "cell_type": "code",
   "execution_count": 118,
   "metadata": {},
   "outputs": [],
   "source": [
    "key_map = {\n",
    "    'material_id': 'material_id',\n",
    "    'energy': 'energy',\n",
    "    'volume': 'volume',\n",
    "    'nsites': 'nsites',\n",
    "    'energy_per_atom': 'energy_per_atom',\n",
    "    'pretty_formula': 'pretty_formula',\n",
    "    'spacegroup': 'spacegroup.number',\n",
    "    'band_gap': 'band_gap',\n",
    "    'density': 'density',\n",
    "    'total_magnetization': 'total_magnetization',\n",
    "    # Elacticity\n",
    "    'poisson_ratio': 'elasticity.poisson_ratio',\n",
    "    'bulk_modulus_voigt': 'elasticity.K_Voigt',\n",
    "    'bulk_modulus_reuss': 'elasticity.K_Reuss',\n",
    "    'bulk_modulus_vrh': 'elasticity.K_VRH',\n",
    "    'shear_modulus_voigt': 'elasticity.G_Voigt',\n",
    "    'shear_modulus_vrh': 'elasticity.G_VRH'\n",
    "}\n",
    "\n",
    "df = convert_dict_to_pandas_frame(data, key_map)"
   ]
  },
  {
   "cell_type": "code",
   "execution_count": 119,
   "metadata": {},
   "outputs": [
    {
     "name": "stdout",
     "output_type": "stream",
     "text": [
      "<class 'pandas.core.frame.DataFrame'>\n",
      "Index: 6928 entries, mp-998890 to mp-30883\n",
      "Data columns (total 15 columns):\n",
      "energy                 6928 non-null float64\n",
      "volume                 6928 non-null float64\n",
      "nsites                 6928 non-null int64\n",
      "energy_per_atom        6928 non-null float64\n",
      "pretty_formula         6928 non-null object\n",
      "spacegroup             6928 non-null int64\n"