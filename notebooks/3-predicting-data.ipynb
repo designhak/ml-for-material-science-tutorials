{
 "cells": [
  {
   "cell_type": "markdown",
   "metadata": {},
   "source": [
    "# Machine Learning with Python\n",
    "\n",
    "We now have our data. We have sanitized it into a csv format. We have explored it.\n",
    "\n",
    "Now lets try to predict some properties."
   ]
  },
  {
   "cell_type": "code",
   "execution_count": 1,
   "metadata": {},
   "outputs": [],
   "source": [
    "import pandas as pd\n",
    "\n",
    "import matplotlib.pyplot as plt"
   ]
  },
  {
   "cell_type": "code",
   "execution_count": 2,
   "metadata": {},
   "outputs": [],
   "source": [
    "## Load the data\n",
    "# df = pd.read_csv('../data/mpdata.csv')\n",
    "df = pd.read_csv('https://gitlab.com/costrouc/mse-machinelearning-notebooks/raw/master/data/mpdata.csv')"
   ]
  },
  {
   "cell_type": "code",
   "execution_count": 3,
   "metadata": {},
   "outputs": [
    {
     "data": {
      "text/html": [
       "<div>\n",
       "<style scoped>\n",
       "    .dataframe tbody tr th:only-of-type {\n",
       "        vertical-align: middle;\n",
       "    }\n",
       "\n",
       "    .dataframe tbody tr th {\n",
       "        vertical-align: top;\n",
       "    }\n",
       "\n",
       "    .dataframe thead th {\n",
       "        text-align: right;\n",
       "    }\n",
       "</style>\n",
       "<table border=\"1\" class=\"dataframe\">\n",
       "  <thead>\n",
       "    <tr style=\"text-align: right;\">\n",
       "      <th></th>\n",
       "      <th>material_id</th>\n",
       "      <th>energy</th>\n",
       "      <th>volume</th>\n",
       "      <th>nsites</th>\n",
       "      <th>energy_per_atom</th>\n",
       "      <th>pretty_formula</th>\n",
       "      <th>spacegroup</th>\n",
       "      <th>band_gap</th>\n",
       "      <th>density</th>\n",
       "      <th>total_magnetization</th>\n",
       "      <th>poisson_ratio</th>\n",
       "      <th>bulk_modulus_voigt</th>\n",
       "      <th>bulk_modulus_reuss</th>\n",
       "      <th>bulk_modulus_vrh</th>\n",
       "      <th>shear_modulus_voigt</th>\n",
       "      <th>shear_modulus_vrh</th>\n",
       "    </tr>\n",
       "  </thead>\n",
       "  <tbody>\n",
       "    <tr>\n",
       "      <th>2621</th>\n",
       "      <td>mp-559777</td>\n",
       "      <td>-372.248991</td>\n",
       "      <td>732.106016</td>\n",
       "      <td>56</td>\n",
       "      <td>-6.647303</td>\n",
       "      <td>Na5Ca2Al(PO4)4</td>\n",
       "      <td>9</td>\n",
       "      <td>4.6496</td>\n",
       "      <td>2.730746</td>\n",
       "      <td>-8.000000e-07</td>\n",
       "      <td>NaN</td>\n",
       "      <td>NaN</td>\n",
       "      <td