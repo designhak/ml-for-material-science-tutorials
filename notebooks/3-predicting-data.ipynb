{
 "cells": [
  {
   "cell_type": "markdown",
   "metadata": {},
   "source": [
    "# Machine Learning with Python\n",
    "\n",
    "We now have our data. We h