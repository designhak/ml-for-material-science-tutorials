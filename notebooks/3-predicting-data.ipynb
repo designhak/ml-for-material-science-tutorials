{
 "cells": [
  {
   "cell_type": "markdown",
   "metadata": {},
   "source": [
    "# Machine Learning with Python\n",
    "\n",
    "We now have our data. We have sanitized it into a csv format. We have explored it.\n",
    "\n",
    "Now lets try to predict some properties."
   ]
  },
  {
   "cell_type": "code",
   "execution_count": 1,
   "metadata": {},
   "outputs": [],
   "source": [
    "import pandas as pd\n",
    "\n",
    "import matplotlib.pyplot as plt"
   ]
  },
  {
   "cell_type": "code",
   "execution_count": 2,
   "metadata": {},
   "outputs": [],
   "source": [
    "## Load the data\n",
    "# df = pd.read_csv('../data/mpdata.csv')\n",
    "df = pd.read_csv('https://gitlab.com/costrouc/mse-machinelearning-notebooks/raw/master/data/mpdata.csv')"
   ]
  },
  {
   "cell_type": "code",
   "ex